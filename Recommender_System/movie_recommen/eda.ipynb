{
 "cells": [
  {
   "cell_type": "markdown",
   "source": [
    "## 1. 用户数据处理\n",
    "每一行表示一个用户的数据，以`::`隔开，第一列到最后一列分别表示`UserID`、`Gender`、`Age`、`Occupation`、`Zip-code`，各数据对应关系如下:\n",
    "- UserID： 每个用户的数字代号\n",
    "- Gender： F表示女性，M表示男性\n",
    "- Age：用数字表示各个年龄段\n",
    "- Occupation： 用数字表示不同职业\n",
    "- zip-code： 邮政编码，与用户所处的地理位置有关。在本次实验中，不使用这个数据。"
   ],
   "metadata": {
    "collapsed": false,
    "pycharm": {
     "name": "#%% md\n"
    }
   }
  },
  {
   "cell_type": "code",
   "execution_count": 1,
   "outputs": [
    {
     "name": "stdout",
     "output_type": "stream",
     "text": [
      "6040\n",
      "1::F::1::10::48067\n",
      "\n",
      "<class 'str'>\n"
     ]
    }
   ],
   "source": [
    "import numpy as np\n",
    "import pandas as pd\n",
    "\n",
    "user_file = './data/users.dat'\n",
    "\n",
    "# 读取用户数据\n",
    "with open(user_file, 'r') as f:\n",
    "    user_data = f.readlines()\n",
    "\n",
    "print(len(user_data))\n",
    "print(user_data[0])\n",
    "print(type(user_data[0]))"
   ],
   "metadata": {
    "collapsed": false,
    "pycharm": {
     "name": "#%%\n"
    }
   }
  },
  {
   "cell_type": "markdown",
   "source": [
    "用户的性别F、M是字母数据，这里需要转换成数字表示"
   ],
   "metadata": {
    "collapsed": false,
    "pycharm": {
     "name": "#%% md\n"
    }
   }
  },
  {
   "cell_type": "code",
   "execution_count": 2,
   "outputs": [
    {
     "name": "stdout",
     "output_type": "stream",
     "text": [
      "{'user_id': 3, 'gender': 0, 'age': 25, 'job': 15}\n"
     ]
    }
   ],
   "source": [
    "def gender2num(gender):\n",
    "    \"\"\"将性别从字符转换为数字\"\"\"\n",
    "    return 1 if gender == 'F' else 0\n",
    "\n",
    "user_info = {}\n",
    "max_user_id = 0\n",
    "\n",
    "for item in user_data:\n",
    "    item = item.strip().split('::')\n",
    "    user_id = item[0]\n",
    "    user_info[user_id] = {\n",
    "        'user_id': int(user_id),\n",
    "        'gender': gender2num(item[1]),\n",
    "        'age': int(item[2]),\n",
    "        'job': int(item[3])\n",
    "    }\n",
    "    max_user_id = max(max_user_id, int(user_id))\n",
    "\n",
    "print(user_info['3'])"
   ],
   "metadata": {
    "collapsed": false,
    "pycharm": {
     "name": "#%%\n"
    }
   }
  },
  {
   "cell_type": "markdown",
   "source": [
    "简单绘制用户信息图：\n",
    "1. 性别来看，男性居多\n",
    "2. 年龄来看，年轻人居多\n",
    "3. 职业来看，学生(4)、管理(7)、程序员(12)、工程师(17)以及作家(20)居多"
   ],
   "metadata": {
    "collapsed": false,
    "pycharm": {
     "name": "#%% md\n"
    }
   }
  },
  {
   "cell_type": "code",
   "execution_count": 3,
   "outputs": [],
   "source": [
    "import seaborn as sns"
   ],
   "metadata": {
    "collapsed": false,
    "pycharm": {
     "name": "#%%\n"
    }
   }
  },
  {
   "cell_type": "code",
   "execution_count": 4,
   "outputs": [
    {
     "data": {
      "text/plain": "   user_id  gender  age  job\n0        1       1    1   10\n1        2       0   56   16\n2        3       0   25   15\n3        4       0   45    7\n4        5       0   25   20",
      "text/html": "<div>\n<style scoped>\n    .dataframe tbody tr th:only-of-type {\n        vertical-align: middle;\n    }\n\n    .dataframe tbody tr th {\n        vertical-align: top;\n    }\n\n    .dataframe thead th {\n        text-align: right;\n    }\n</style>\n<table border=\"1\" class=\"dataframe\">\n  <thead>\n    <tr style=\"text-align: right;\">\n      <th></th>\n      <th>user_id</th>\n      <th>gender</th>\n      <th>age</th>\n      <th>job</th>\n    </tr>\n  </thead>\n  <tbody>\n    <tr>\n      <th>0</th>\n      <td>1</td>\n      <td>1</td>\n      <td>1</td>\n      <td>10</td>\n    </tr>\n    <tr>\n      <th>1</th>\n      <td>2</td>\n      <td>0</td>\n      <td>56</td>\n      <td>16</td>\n    </tr>\n    <tr>\n      <th>2</th>\n      <td>3</td>\n      <td>0</td>\n      <td>25</td>\n      <td>15</td>\n    </tr>\n    <tr>\n      <th>3</th>\n      <td>4</td>\n      <td>0</td>\n      <td>45</td>\n      <td>7</td>\n    </tr>\n    <tr>\n      <th>4</th>\n      <td>5</td>\n      <td>0</td>\n      <td>25</td>\n      <td>20</td>\n    </tr>\n  </tbody>\n</table>\n</div>"
     },
     "execution_count": 4,
     "metadata": {},
     "output_type": "execute_result"
    }
   ],
   "source": [
    "user_table = {\n",
    "    'user_id': [],\n",
    "    'gender': [],\n",
    "    'age': [],\n",
    "    'job': []\n",
    "}\n",
    "for k, v in user_info.items():\n",
    "    user_table['user_id'].append(v['user_id'])\n",
    "    user_table['gender'].append(v['gender'])\n",
    "    user_table['age'].append(v['age'])\n",
    "    user_table['job'].append(v['job'])\n",
    "\n",
    "user_table = pd.DataFrame(user_table)\n",
    "user_table.head()"
   ],
   "metadata": {
    "collapsed": false,
    "pycharm": {
     "name": "#%%\n"
    }
   }
  },
  {
   "cell_type": "code",
   "execution_count": 5,
   "outputs": [
    {
     "data": {
      "text/plain": "<AxesSubplot:xlabel='gender', ylabel='count'>"
     },
     "execution_count": 5,
     "metadata": {},
     "output_type": "execute_result"
    },
    {
     "data": {
      "text/plain": "<Figure size 432x288 with 1 Axes>",
      "image/png": "[encoded data removed]"
     },
     "metadata": {
      "needs_background": "light"
     },
     "output_type": "display_data"
    }
   ],
   "source": [
    "sns.countplot(x='gender', data=user_table)"
   ],
   "metadata": {
    "collapsed": false,
    "pycharm": {
     "name": "#%%\n"
    }
   }
  },
  {
   "cell_type": "code",
   "execution_count": 6,
   "outputs": [
    {
     "data": {
      "text/plain": "<AxesSubplot:xlabel='age', ylabel='count'>"
     },
     "execution_count": 6,
     "metadata": {},
     "output_type": "execute_result"
    },
    {
     "data": {
      "text/plain": "<Figure size 432x288 with 1 Axes>",
      "image/png": "[encoded data removed]"
     },
     "metadata": {
      "needs_background": "light"
     },
     "output_type": "display_data"
    }
   ],
   "source": [
    "sns.countplot(x='age', data=user_table)"
   ],
   "metadata": {
    "collapsed": false,
    "pycharm": {
     "name": "#%%\n"
    }
   }
  },
  {
   "cell_type": "code",
   "execution_count": 7,
   "outputs": [
    {
     "data": {
      "text/plain": "<AxesSubplot:xlabel='job', ylabel='count'>"
     },
     "execution_count": 7,
     "metadata": {},
     "output_type": "execute_result"
    },
    {
     "data": {
      "text/plain": "<Figure size 432x288 with 1 Axes>",
      "image/png": "[encoded data removed]"
     },
     "metadata": {
      "needs_background": "light"
     },
     "output_type": "display_data"
    }
   ],
   "source": [
    "sns.countplot(x='job', data=user_table)"
   ],
   "metadata": {
    "collapsed": false,
    "pycharm": {
     "name": "#%%\n"
    }
   }
  },
  {
   "cell_type": "markdown",
   "source": [
    "## 2. 电影数据处理\n",
    "每一行表示一条电影数据信息，数据格式为：`MovieID::Title::Genres`\n",
    "- MovieID： 每个电影的数字代号\n",
    "- Title： 每个电影的名字和首映时间\n",
    "- Genres： 电影的种类，每个电影不止一个类别，不同类别以`|`隔开"
   ],
   "metadata": {
    "collapsed": false,
    "pycharm": {
     "name": "#%% md\n"
    }
   }
  },
  {
   "cell_type": "code",
   "execution_count": 8,
   "outputs": [
    {
     "name": "stdout",
     "output_type": "stream",
     "text": [
      "1::Toy Story (1995)::Animation|Children's|Comedy\n",
      "\n",
      "movie id:  1\n",
      "movie title:  Toy Story\n",
      "movie year:  1995\n",
      "movie type:  ['Animation', \"Children's\", 'Comedy']\n"
     ]
    }
   ],
   "source": [
    "movie_info_file = './data/movies.dat'\n",
    "\n",
    "with open(movie_info_file, 'r', encoding=\"ISO-8859-1\") as f:\n",
    "    movie_data = f.readlines()\n",
    "\n",
    "item = movie_data[0]\n",
    "print(item)\n",
    "item = item.strip().split('::')\n",
    "print('movie id: ' , item[0])\n",
    "print('movie title: ' , item[1][:-7])\n",
    "print('movie year: ' , item[1][-5:-1])\n",
    "print('movie type: ' , item[2].split('|'))"
   ],
   "metadata": {
    "collapsed": false,
    "pycharm": {
     "name": "#%%\n"
    }
   }
  },
  {
   "cell_type": "code",
   "execution_count": 9,
   "outputs": [
    {
     "name": "stdout",
     "output_type": "stream",
     "text": [
      "3952\n"
     ]
    }
   ],
   "source": [
    "movie_info = {}\n",
    "for item in movie_data:\n",
    "    item = item.strip().split('::')\n",
    "    movie_id = item[0]\n",
    "    movie_info[movie_id] = {'movie_id': int(movie_id)}\n",
    "\n",
    "max_movie_id = max([movie_info[k]['movie_id'] for k in movie_info.keys()])\n",
    "\n",
    "print(max_movie_id)"
   ],
   "metadata": {
    "collapsed": false,
    "pycharm": {
     "name": "#%%\n"
    }
   }
  },
  {
   "cell_type": "markdown",
   "source": [
    "电影数据中Title和Genres都是长文本信息，为了便于后续神经网络计算，我们把其中每个单词都拆分出来，不同的单词用对应的数字序号指代。所以，我们需要对这些数据进行如下处理：\n",
    "1. 统计电影名字的单词，并给每个单词一个数字序号\n",
    "2. 统计电影类别单词，并给每个单词一个数字序号"
   ],
   "metadata": {
    "collapsed": false,
    "pycharm": {
     "name": "#%% md\n"
    }
   }
  },
  {
   "cell_type": "code",
   "execution_count": 10,
   "outputs": [
    {
     "name": "stdout",
     "output_type": "stream",
     "text": [
      "电影最长title长度为： 15\n",
      "电影id为： 1\n",
      "电影title为： Toy Story\n",
      "id为1的电影数据为： {'movie_id': 1, 'title': [1, 2], 'year': 1995}\n"
     ]
    }
   ],
   "source": [
    "# 用于记录电影title每个单词对应哪个序号\n",
    "movie_titles = {}\n",
    "\n",
    "# 记录电影名字包含的单词最大数量\n",
    "max_title_length = 0\n",
    "\n",
    "# 对不同的单词从1开始计数\n",
    "t_count = 1\n",
    "\n",
    "for item in movie_data:\n",
    "    item = item.strip().split('::')\n",
    "    v_id = item[0]\n",
    "    v_title = item[1][:-7]\n",
    "    v_year = item[1][-5:-1]\n",
    "    titles = v_title.split()\n",
    "    # 获取title的最大长度\n",
    "    max_title_length = max(max_title_length, len(titles))\n",
    "\n",
    "    for t in titles:\n",
    "        if t not in movie_titles:\n",
    "            movie_titles[t] = t_count\n",
    "            t_count += 1\n",
    "\n",
    "    v_tit = [movie_titles[k] for k in titles]\n",
    "    movie_info[v_id] = {\n",
    "        'movie_id': int(v_id),\n",
    "        'title': v_tit,\n",
    "        'year': int(v_year)\n",
    "    }\n",
    "\n",
    "print('电影最长title长度为：', max_title_length)\n",
    "item = movie_data[0]\n",
    "item = item.strip().split('::')\n",
    "print('电影id为：', item[0])\n",
    "print('电影title为：', item[1][:-7])\n",
    "print('id为1的电影数据为：', movie_info['1'])"
   ],
   "metadata": {
    "collapsed": false,
    "pycharm": {
     "name": "#%%\n"
    }
   }
  },
  {
   "cell_type": "code",
   "execution_count": 11,
   "outputs": [
    {
     "name": "stdout",
     "output_type": "stream",
     "text": [
      "电影类别最多为： 6\n",
      "电影id为： 1\n",
      "电影类别为： ['Animation', \"Children's\", 'Comedy']\n",
      "id为1的电影数据为： {'movie_id': 1, 'category': [1, 2, 3]}\n"
     ]
    }
   ],
   "source": [
    "# 用来存放电影类型\n",
    "movie_cat = {}\n",
    "\n",
    "# 记录电影类型包含的单词最大数量\n",
    "max_cat_length = 0\n",
    "\n",
    "# 对不同的单词从1开始计数\n",
    "c_count = 1\n",
    "\n",
    "for item in movie_data:\n",
    "    item = item.strip().split('::')\n",
    "    v_id = item[0]\n",
    "    cats = item[2].split('|')\n",
    "\n",
    "    max_cat_length = max(max_cat_length, len(cats))\n",
    "\n",
    "    for cat in cats:\n",
    "        if cat not in movie_cat:\n",
    "            movie_cat[cat] = c_count\n",
    "            c_count += 1\n",
    "\n",
    "    v_cat = [movie_cat[k] for k in cats]\n",
    "\n",
    "    movie_info[v_id] = {\n",
    "        'movie_id': int(v_id),\n",
    "        'category': v_cat\n",
    "    }\n",
    "\n",
    "print('电影类别最多为：', max_cat_length)\n",
    "item = movie_data[0]\n",
    "item = item.strip().split('::')\n",
    "print('电影id为：', item[0])\n",
    "print('电影类别为：', item[2].split('|'))\n",
    "print('id为1的电影数据为：', movie_info['1'])"
   ],
   "metadata": {
    "collapsed": false,
    "pycharm": {
     "name": "#%%\n"
    }
   }
  },
  {
   "cell_type": "markdown",
   "source": [
    "由于每个电影名字和类别的单词数量不一样，转换成数字表示时，还需要通过补0将其补全成固定数据长度"
   ],
   "metadata": {
    "collapsed": false,
    "pycharm": {
     "name": "#%% md\n"
    }
   }
  },
  {
   "cell_type": "code",
   "execution_count": 12,
   "outputs": [
    {
     "name": "stdout",
     "output_type": "stream",
     "text": [
      "电影数据量为： 3883\n",
      "原始的电影id为3的数据为：3::Grumpier Old Men (1995)::Comedy|Romance\n",
      "\n",
      "处理后电影id为3的数据为：{'movie_id': 3, 'title': [4, 5, 6, 0, 0, 0, 0, 0, 0, 0, 0, 0, 0, 0, 0], 'year': 1995, 'category': [3, 6, 0, 0, 0, 0]}\n"
     ]
    }
   ],
   "source": [
    "movie_info, movie_titles, movie_cat = {}, {}, {}\n",
    "t_count, c_count = 1, 1\n",
    "\n",
    "for item in movie_data:\n",
    "    item = item.strip().split('::')\n",
    "    v_id = item[0]\n",
    "    v_title = item[1][:-7]\n",
    "    v_year = item[1][-5:-1]\n",
    "    cats = item[2].split('|')\n",
    "\n",
    "    titles = v_title.split()\n",
    "\n",
    "    for t in titles:\n",
    "        if t not in movie_titles:\n",
    "            movie_titles[t] = t_count\n",
    "            t_count += 1\n",
    "\n",
    "    for cat in cats:\n",
    "        if cat not in movie_cat:\n",
    "            movie_cat[cat] = c_count\n",
    "            c_count += 1\n",
    "\n",
    "    v_tit = [movie_titles[k] for k in titles]\n",
    "    while len(v_tit) < 15:\n",
    "        v_tit.append(0)\n",
    "\n",
    "    v_cat = [movie_cat[k] for k in cats]\n",
    "    while len(v_cat) < 6:\n",
    "        v_cat.append(0)\n",
    "\n",
    "    movie_info[v_id] = {\n",
    "        'movie_id': int(v_id),\n",
    "        'title': v_tit,\n",
    "        'year': int(v_year),\n",
    "        'category': v_cat\n",
    "    }\n",
    "\n",
    "print('电影数据量为：', len(movie_info))\n",
    "ID = 3\n",
    "print('原始的电影id为{}的数据为：{}'.format(ID, movie_data[ID-1]))\n",
    "print('处理后电影id为{}的数据为：{}'.format(ID, movie_info[str(ID)]))"
   ],
   "metadata": {
    "collapsed": false,
    "pycharm": {
     "name": "#%%\n"
    }
   }
  },
  {
   "cell_type": "markdown",
   "source": [
    "## 3. 评分数据处理\n",
    "评分数据格式为`UserID::MovieID::Rating::Timestamp`"
   ],
   "metadata": {
    "collapsed": false,
    "pycharm": {
     "name": "#%% md\n"
    }
   }
  },
  {
   "cell_type": "code",
   "execution_count": 13,
   "outputs": [
    {
     "name": "stdout",
     "output_type": "stream",
     "text": [
      "1::1193::5::978300760\n",
      "\n",
      "评分数据共有： 1000209\n",
      "用户id： 1\n",
      "电影id： 1193\n",
      "用户对电影的评分： 5\n"
     ]
    }
   ],
   "source": [
    "use_poster = False\n",
    "if use_poster:\n",
    "    rating_file = './data/new_rating.txt'\n",
    "else:\n",
    "    rating_file = './data/ratings.dat'\n",
    "\n",
    "with open(rating_file, 'r') as f:\n",
    "    rating_data = f.readlines()\n",
    "\n",
    "item = rating_data[0]\n",
    "print(item)\n",
    "\n",
    "item = item.strip().split('::')\n",
    "user_id, movie_id, score = item[0], item[1], item[2]\n",
    "print('评分数据共有：', len(rating_data))\n",
    "print('用户id：', user_id)\n",
    "print('电影id：', movie_id)\n",
    "print('用户对电影的评分：', score)"
   ],
   "metadata": {
    "collapsed": false,
    "pycharm": {
     "name": "#%%\n"
    }
   }
  },
  {
   "cell_type": "code",
   "execution_count": 14,
   "outputs": [
    {
     "name": "stdout",
     "output_type": "stream",
     "text": [
      "id为1的用户一共评价了53个电影\n",
      "{'1193': 5.0, '661': 3.0, '914': 3.0, '3408': 4.0, '2355': 5.0, '1197': 3.0, '1287': 5.0, '2804': 5.0, '594': 4.0, '919': 4.0, '595': 5.0, '938': 4.0, '2398': 4.0, '2918': 4.0, '1035': 5.0, '2791': 4.0, '2687': 3.0, '2018': 4.0, '3105': 5.0, '2797': 4.0, '2321': 3.0, '720': 3.0, '1270': 5.0, '527': 5.0, '2340': 3.0, '48': 5.0, '1097': 4.0, '1721': 4.0, '1545': 4.0, '745': 3.0, '2294': 4.0, '3186': 4.0, '1566': 4.0, '588': 4.0, '1907': 4.0, '783': 4.0, '1836': 5.0, '1022': 5.0, '2762': 4.0, '150': 5.0, '1': 5.0, '1961': 5.0, '1962': 4.0, '2692': 4.0, '260': 4.0, '1028': 5.0, '1029': 5.0, '1207': 4.0, '2028': 5.0, '531': 4.0, '3114': 4.0, '608': 4.0, '1246': 4.0}\n"
     ]
    }
   ],
   "source": [
    "def get_rating_info(path):\n",
    "    with open(path, 'r') as f:\n",
    "        data = f.readlines()\n",
    "\n",
    "    rating_info = {}\n",
    "    for item in data:\n",
    "        item = item.strip().split('::')\n",
    "        user_id, movie_id, score = item[0], item[1], item[2]\n",
    "        if user_id not in rating_info:\n",
    "            rating_info[user_id] = {movie_id: float(score)}\n",
    "        else:\n",
    "            rating_info[user_id][movie_id] = float(score)\n",
    "    return rating_info\n",
    "\n",
    "\n",
    "rating_info = get_rating_info(rating_file)\n",
    "print('id为1的用户一共评价了{}个电影'.format(len(rating_info['1'])))\n",
    "print(rating_info['1'])"
   ],
   "metadata": {
    "collapsed": false,
    "pycharm": {
     "name": "#%%\n"
    }
   }
  },
  {
   "cell_type": "markdown",
   "source": [
    "## 4. 海报图像读取"
   ],
   "metadata": {
    "collapsed": false,
    "pycharm": {
     "name": "#%% md\n"
    }
   }
  },
  {
   "cell_type": "code",
   "execution_count": 15,
   "outputs": [
    {
     "data": {
      "text/plain": "<Figure size 432x288 with 1 Axes>",
      "image/png": "[encoded data removed]"
     },
     "metadata": {
      "needs_background": "light"
     },
     "output_type": "display_data"
    }
   ],
   "source": [
    "from PIL import Image\n",
    "import matplotlib.pyplot as plt\n",
    "\n",
    "\n",
    "use_poster = True\n",
    "if use_poster:\n",
    "    rating_file = './data/new_rating.txt'\n",
    "else:\n",
    "    rating_file = './data/ratings.dat'\n",
    "\n",
    "with open(rating_file, 'r') as f:\n",
    "    rating_data = f.readlines()\n",
    "\n",
    "movid_id_collect = []\n",
    "for item in rating_data:\n",
    "    item = item.strip().split('::')\n",
    "    user_id, movie_id, score = item[0], item[1], item[2]\n",
    "    movid_id_collect.append(movie_id)\n",
    "\n",
    "poster_path = './data/posters/'\n",
    "idx = 1\n",
    "poster = Image.open(poster_path + 'mov_id{}.jpg'.format(str(movid_id_collect[idx])))\n",
    "plt.imshow(poster)\n",
    "plt.title('poster with id {}'.format(movid_id_collect[idx]))\n",
    "plt.show()"
   ],
   "metadata": {
    "collapsed": false,
    "pycharm": {
     "name": "#%%\n"
    }
   }
  }
 ],
 "metadata": {
  "kernelspec": {
   "display_name": "Python 3",
   "language": "python",
   "name": "python3"
  },
  "language_info": {
   "codemirror_mode": {
    "name": "ipython",
    "version": 2
   },
   "file_extension": ".py",
   "mimetype": "text/x-python",
   "name": "python",
   "nbconvert_exporter": "python",
   "pygments_lexer": "ipython2",
   "version": "2.7.6"
  }
 },
 "nbformat": 4,
 "nbformat_minor": 0
}