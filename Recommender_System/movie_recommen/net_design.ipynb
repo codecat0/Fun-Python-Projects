{
 "cells": [
  {
   "cell_type": "markdown",
   "metadata": {
    "collapsed": true,
    "pycharm": {
     "name": "#%% md\n"
    }
   },
   "source": [
    "## 网络结构设计\n",
    "1. 提取用户特征和电影特征作为网络的输入，其中：\n",
    "    - 用户特征包含：性别、年龄和职业\n",
    "    - 电影特征包含：电影名称、电影类型以及电影海报\n",
    "2. 提取用户信息，使用Embedding层将用户特征映射为向量表示，然后输入到全连接层并相加\n",
    "3. 提取电影信息，将电影类型映射为向量表示，电影名称和电影海报使用卷积层得到向量表示，然后输入到全连接层并相加\n",
    "4. 得到用户和电影的向量表示后，计算二者的余弦相似度。最后，用该相似度和用户真实评分的均方差作为该回归模型的损失函数"
   ]
  },
  {
   "cell_type": "code",
   "execution_count": 1,
   "outputs": [],
   "source": [
    "import numpy as np\n",
    "import torch\n",
    "import torch.nn as nn\n",
    "import torch.nn.functional as F"
   ],
   "metadata": {
    "collapsed": false,
    "pycharm": {
     "name": "#%%\n"
    }
   }
  },
  {
   "cell_type": "markdown",
   "source": [
    "## 1. 用户信息\n",
    "### 1.1 提取性别特征"
   ],
   "metadata": {
    "collapsed": false,
    "pycharm": {
     "name": "#%% md\n"
    }
   }
  },
  {
   "cell_type": "code",
   "execution_count": 2,
   "outputs": [
    {
     "name": "stdout",
     "output_type": "stream",
     "text": [
      "torch.Size([2, 16])\n",
      "tensor([[0.0000, 0.0000, 0.6966, 0.0000, 0.3730, 0.4355, 0.4415, 1.1237, 0.3944,\n",
      "         0.3533, 0.0000, 0.0000, 1.0818, 0.0798, 0.0000, 0.0000],\n",
      "        [0.0000, 0.3916, 0.3843, 0.0000, 0.0998, 0.0000, 0.5639, 0.5535, 0.0000,\n",
      "         0.0000, 0.5187, 0.3305, 0.5410, 0.0000, 0.1427, 0.0000]],\n",
      "       grad_fn=<ReluBackward0>)\n"
     ]
    }
   ],
   "source": [
    "# 自定义一个用户性别数据\n",
    "usr_gender_data = np.array((0, 1)).reshape(-1).astype('int64')\n",
    "usr_gender_dict_size = 2\n",
    "usr_gender_emb = nn.Embedding(num_embeddings=usr_gender_dict_size, embedding_dim=16)\n",
    "usr_gender_fc = nn.Linear(in_features=16, out_features=16)\n",
    "\n",
    "usr_gender_var = torch.from_numpy(usr_gender_data)\n",
    "usr_gender_feat = usr_gender_fc(usr_gender_emb(usr_gender_var))\n",
    "usr_gender_feat = F.relu(usr_gender_feat)\n",
    "print(usr_gender_feat.shape)\n",
    "print(usr_gender_feat)"
   ],
   "metadata": {
    "collapsed": false,
    "pycharm": {
     "name": "#%%\n"
    }
   }
  },
  {
   "cell_type": "markdown",
   "source": [
    "### 1.2 提取用户年龄特征"
   ],
   "metadata": {
    "collapsed": false,
    "pycharm": {
     "name": "#%% md\n"
    }
   }
  },
  {
   "cell_type": "code",
   "execution_count": 3,
   "outputs": [
    {
     "name": "stdout",
     "output_type": "stream",
     "text": [
      "torch.Size([2, 16])\n",
      "tensor([[ 0.5290, -0.6472, -0.3879,  0.5995, -0.2659,  0.2476, -1.1362,  0.3244,\n",
      "          1.6538, -0.4319, -0.7275,  0.7412,  0.0623,  0.1928,  0.0296,  1.9320],\n",
      "        [ 0.4671, -0.8481,  0.1499,  1.2090,  1.2093,  0.3064,  1.6807, -0.2640,\n",
      "         -0.5385,  0.6502, -0.2269, -0.3856, -0.0081, -0.2660, -0.5461, -1.1172]],\n",
      "       grad_fn=<AddmmBackward>)\n"
     ]
    }
   ],
   "source": [
    "# 自定义一个用户年龄数据\n",
    "usr_age_data = np.array((1, 18)).reshape(-1).astype('int64')\n",
    "usr_age_dict_size = 56 + 1\n",
    "usr_age_emb = nn.Embedding(num_embeddings=usr_age_dict_size, embedding_dim=16)\n",
    "usr_age_fc = nn.Linear(in_features=16, out_features=16)\n",
    "\n",
    "usr_age_var = torch.from_numpy(usr_age_data)\n",
    "usr_age_feat = usr_age_fc(usr_age_emb(usr_age_var))\n",
    "usr_age_feat = F.relu(usr_age_feat)\n",
    "print(usr_age_feat.shape)\n",
    "print(usr_age_feat)"
   ],
   "metadata": {
    "collapsed": false,
    "pycharm": {
     "name": "#%%\n"
    }
   }
  },
  {
   "cell_type": "markdown",
   "source": [
    "### 1.3 提取用户职业特征"
   ],
   "metadata": {
    "collapsed": false,
    "pycharm": {
     "name": "#%% md\n"
    }
   }
  },
  {
   "cell_type": "code",
   "execution_count": 4,
   "outputs": [
    {
     "name": "stdout",
     "output_type": "stream",
     "text": [
      "torch.Size([2, 16])\n",
      "tensor([[1.9749, 0.0000, 0.0000, 0.8252, 0.0000, 0.6930, 0.0000, 0.0000, 0.0358,\n",
      "         0.0000, 0.7563, 0.0000, 0.0000, 0.4580, 0.8911, 0.0455],\n",
      "        [0.7527, 0.2311, 0.0000, 0.1405, 1.1170, 0.5591, 0.1824, 1.3307, 0.0000,\n",
      "         0.0000, 0.0399, 0.0000, 0.0000, 0.1492, 0.2513, 0.0000]],\n",
      "       grad_fn=<ReluBackward0>)\n"
     ]
    }
   ],
   "source": [
    "usr_job_data = np.array((0, 20)).reshape(-1).astype('int64')\n",
    "usr_job_dict_size = 20 + 1\n",
    "usr_job_emb = nn.Embedding(num_embeddings=usr_job_dict_size, embedding_dim=16)\n",
    "usr_job_fc = nn.Linear(in_features=16, out_features=16)\n",
    "\n",
    "usr_job_var = torch.from_numpy(usr_job_data)\n",
    "usr_job_feat = usr_job_fc(usr_job_emb(usr_job_var))\n",
    "usr_job_feat = F.relu(usr_job_feat)\n",
    "print(usr_job_feat.shape)\n",
    "print(usr_job_feat)"
   ],
   "metadata": {
    "collapsed": false,
    "pycharm": {
     "name": "#%%\n"
    }
   }
  },
  {
   "cell_type": "markdown",
   "source": [
    "### 1.4 融合用户特征"
   ],
   "metadata": {
    "collapsed": false,
    "pycharm": {
     "name": "#%% md\n"
    }
   }
  },
  {
   "cell_type": "code",
   "execution_count": 5,
   "outputs": [
    {
     "name": "stdout",
     "output_type": "stream",
     "text": [
      "torch.Size([2, 200])\n",
      "tensor([[-0.4754, -0.5006,  0.7800, -0.0916, -0.4430,  0.9941, -0.2878, -0.3890,\n",
      "          0.9851,  0.0592,  1.3108, -0.5596,  0.5079,  0.4680, -0.0095, -0.1781,\n",
      "          0.9574,  0.1006, -0.6925,  1.4402, -0.0202, -0.3206, -0.2330,  0.2378,\n",
      "          0.4972,  0.3473,  0.9743, -0.2952,  0.3214, -0.1116,  0.6535, -0.3434,\n",
      "         -0.3431,  0.4105,  0.4813,  0.7363, -0.0193,  0.7338,  0.0827,  0.7957,\n",
      "         -0.8258, -0.6831,  0.9995, -0.1984, -0.9636, -0.5469,  0.2023,  0.8143,\n",
      "         -1.2965,  0.7914,  0.2987,  0.1895, -0.1863,  0.2468,  0.2159, -0.1489,\n",
      "          0.7074, -1.0013, -0.5645, -0.4629,  0.3709, -0.6216,  0.3045, -0.2654,\n",
      "         -1.0390, -0.2435, -0.3589, -0.1659,  0.2704,  0.0126, -1.1397, -0.2288,\n",
      "         -0.0535,  0.4737, -1.8212,  0.0198,  0.9539,  0.0860, -1.0539, -1.0696,\n",
      "          0.9028,  0.1553,  0.1447,  0.4883,  0.4088, -0.5573, -0.2253,  0.6572,\n",
      "         -0.2522,  0.2880, -0.1599,  0.6082, -0.0648,  0.3248, -0.1293,  0.3353,\n",
      "          0.5795, -0.3960,  1.0947,  0.3146, -0.1362, -0.2849, -0.5160, -0.4547,\n",
      "         -0.3522,  0.1935,  0.4923, -0.3902,  0.0833,  0.1623,  0.8555,  0.6136,\n",
      "         -0.2484,  0.3492, -0.5885,  0.3777, -0.0466, -0.5508, -0.2399,  0.2414,\n",
      "         -0.1746, -0.7105, -0.1294, -1.2190,  1.2114, -0.7717,  0.7093, -0.7755,\n",
      "          0.6145, -0.6439,  0.3404,  0.4037, -0.5917, -0.2473,  0.8709,  1.2593,\n",
      "         -0.1467,  0.2879,  0.3217, -0.5399,  0.3222,  0.7646, -0.0206, -0.5596,\n",
      "         -0.5066, -0.3706,  0.8858, -0.3194, -0.5913,  0.6236, -0.7835, -1.0685,\n",
      "          0.2795,  0.3400, -0.8434, -0.6147,  1.1789,  0.1508, -0.7502,  0.1990,\n",
      "          0.5343,  0.1369, -0.0111,  0.5218, -0.3672,  0.2876,  0.6687, -0.1696,\n",
      "         -0.2837, -0.6306, -1.2009, -0.7516, -0.1073,  0.5506,  0.1462,  1.1245,\n",
      "         -0.9786, -0.5733, -0.1679, -0.5434, -0.5269, -0.3158,  0.1709,  0.4476,\n",
      "          0.7298,  0.3401,  1.0992, -0.0215,  0.4765, -0.9918, -0.4247, -0.3024,\n",
      "         -0.3467, -1.0557, -0.1117,  0.6712, -0.4423, -1.4083, -0.3683,  0.3696],\n",
      "        [-0.9041, -0.1269,  1.4842, -1.2291,  0.5879,  0.6433, -1.2501,  0.6101,\n",
      "         -0.2534, -0.8790,  0.3665, -1.0865,  1.3150, -0.2958, -0.3381, -0.7616,\n",
      "         -0.5666, -0.0713, -0.4432,  0.3959, -0.9608,  0.2135,  0.3516, -0.4313,\n",
      "          0.0656, -0.0162, -0.2014, -0.6454,  0.2395,  0.4034, -0.3346, -0.1880,\n",
      "          0.1856,  1.1614,  0.4443, -0.3379, -0.6002, -0.1196,  0.3096, -0.8067,\n",
      "         -1.2270, -0.1121, -0.5030,  0.6269,  0.3779, -0.0211,  0.1780,  0.3051,\n",
      "         -0.2991,  0.0335,  0.2633,  0.1679,  0.3261, -0.0733,  0.5729, -1.0408,\n",
      "          0.4670,  0.1595, -0.2279, -0.6877,  0.2154,  0.6357, -0.1485, -0.2605,\n",
      "         -0.7624,  0.4321, -0.4066,  0.5753, -0.6456,  0.5791, -0.3544, -0.3146,\n",
      "          0.0274, -0.1447, -1.2064, -0.9617, -0.5223,  0.7691,  0.2207, -0.0221,\n",
      "          0.6217, -0.6704, -0.6260,  0.7880, -0.4101, -0.2552, -0.0349,  1.2939,\n",
      "          0.8907, -0.1156,  0.1482, -0.7860,  0.0977,  0.4542, -0.4439,  1.7066,\n",
      "         -0.0305, -0.3117,  0.0285, -0.7837, -0.2638,  0.6876, -0.2155, -0.0097,\n",
      "          0.2881, -0.5550,  0.7701, -0.5771, -0.4090, -0.6280, -0.7911,  0.7024,\n",
      "          0.6522,  0.2474, -0.2743,  0.4074,  0.1904, -0.3848, -0.3465,  0.5429,\n",
      "         -0.4117,  0.3319,  0.0997, -1.0935,  0.1582,  0.4840,  0.2206, -0.4645,\n",
      "         -0.7792, -0.1667,  0.0303, -0.3603,  0.0101, -0.8356,  0.1046,  0.0704,\n",
      "          0.5982,  0.6525,  0.4513, -0.2553, -0.1317,  0.0838, -0.6707, -0.1661,\n",
      "          0.3559,  0.2062, -0.5787, -0.8742,  0.5601,  0.5033,  0.4183,  0.1621,\n",
      "         -0.0572,  0.3586, -0.3258, -0.5299, -0.0355,  0.6248,  0.0936, -0.3860,\n",
      "         -0.2254, -0.4369, -0.2972,  0.8220, -0.2827, -0.5842, -0.3535,  0.6513,\n",
      "         -0.2451, -1.0382, -0.0114, -0.2043, -0.1419,  1.0836, -0.8217, -0.3462,\n",
      "          0.5308, -0.1193,  0.3886,  0.6332,  0.9066, -1.1362,  0.2218,  0.3759,\n",
      "         -0.1024,  1.4204,  0.6214, -0.2154,  0.1410, -0.1172, -0.0368, -0.7101,\n",
      "          0.7124, -0.2328, -0.3766,  0.6215, -0.4779, -0.8389, -1.1351,  0.6889]],\n",
      "       grad_fn=<AddBackward0>)\n"
     ]
    },
    {
     "name": "stderr",
     "output_type": "stream",
     "text": [
      "/home/hlz/miniconda3/envs/rs/lib/python3.7/site-packages/torch/nn/functional.py:1628: UserWarning: nn.functional.tanh is deprecated. Use torch.tanh instead.\n",
      "  warnings.warn(\"nn.functional.tanh is deprecated. Use torch.tanh instead.\")\n"
     ]
    }
   ],
   "source": [
    "fc_job = nn.Linear(in_features=16, out_features=200)\n",
    "fc_age = nn.Linear(in_features=16, out_features=200)\n",
    "fc_gender = nn.Linear(in_features=16, out_features=200)\n",
    "\n",
    "gender_feat = F.tanh(fc_gender(usr_gender_feat))\n",
    "age_feat = F.tanh(fc_age(usr_age_feat))\n",
    "job_feat = F.tanh(fc_job(usr_job_feat))\n",
    "\n",
    "usr_feat = gender_feat + age_feat + job_feat\n",
    "print(usr_feat.shape)\n",
    "print(usr_feat)"
   ],
   "metadata": {
    "collapsed": false,
    "pycharm": {
     "name": "#%%\n"
    }
   }
  },
  {
   "cell_type": "code",
   "execution_count": null,
   "outputs": [],
   "source": [],
   "metadata": {
    "collapsed": false,
    "pycharm": {
     "name": "#%%\n"
    }
   }
  }
 ],
 "metadata": {
  "kernelspec": {
   "name": "rs",
   "language": "python",
   "display_name": "rs"
  },
  "language_info": {
   "codemirror_mode": {
    "name": "ipython",
    "version": 2
   },
   "file_extension": ".py",
   "mimetype": "text/x-python",
   "name": "python",
   "nbconvert_exporter": "python",
   "pygments_lexer": "ipython2",
   "version": "2.7.6"
  }
 },
 "nbformat": 4,
 "nbformat_minor": 0
}